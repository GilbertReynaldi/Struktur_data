{
 "cells": [
  {
   "cell_type": "code",
   "execution_count": null,
   "id": "1903cee1",
   "metadata": {},
   "outputs": [],
   "source": [
    "a = input(\"masukan num1\")\n",
    "b = input(\"masukan num2\")\n",
    "c = a+b\n",
    "\n",
    "print(c)"
   ]
  }
 ],
 "metadata": {
  "kernelspec": {
   "display_name": "Python 3",
   "language": "python",
   "name": "python3"
  },
  "language_info": {
   "codemirror_mode": {
    "name": "ipython",
    "version": 3
   },
   "file_extension": ".py",
   "mimetype": "text/x-python",
   "name": "python",
   "nbconvert_exporter": "python",
   "pygments_lexer": "ipython3",
   "version": "3.12.3"
  }
 },
 "nbformat": 4,
 "nbformat_minor": 5
}
