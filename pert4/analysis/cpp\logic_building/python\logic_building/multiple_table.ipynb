{
 "cells": [
  {
   "cell_type": "code",
   "execution_count": null,
   "id": "8b955ed2",
   "metadata": {},
   "outputs": [],
   "source": [
    "def printTable(n):\n",
    "\n",
    "    for i in range (1, 11): \n",
    "        \n",
    "        # multiples from 1 to 10\n",
    "        print (\"%d * %d = %d\" % (n, i, n * i))"
   ]
  }
 ],
 "metadata": {
  "language_info": {
   "name": "python"
  }
 },
 "nbformat": 4,
 "nbformat_minor": 5
}
