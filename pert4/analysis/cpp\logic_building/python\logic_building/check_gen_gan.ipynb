{
 "cells": [
  {
   "cell_type": "code",
   "execution_count": null,
   "id": "8ea2c494",
   "metadata": {},
   "outputs": [],
   "source": [
    "def isEven(n):\n",
    "    if n == (n>>1) << 1:\n",
    "        return True\n",
    "    else: \n",
    "        return False\n",
    "\n",
    "n = 5\n",
    "if isEven(n):\n",
    "    print(\"true\")\n",
    "else: \n",
    "    print (\"false\")"
   ]
  }
 ],
 "metadata": {
  "kernelspec": {
   "display_name": "Python 3",
   "language": "python",
   "name": "python3"
  },
  "language_info": {
   "name": "python",
   "version": "3.12.3"
  }
 },
 "nbformat": 4,
 "nbformat_minor": 5
}
