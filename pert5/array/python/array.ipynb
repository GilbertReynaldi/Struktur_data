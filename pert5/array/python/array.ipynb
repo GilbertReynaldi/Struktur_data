{
 "cells": [
  {
   "cell_type": "code",
   "execution_count": null,
   "id": "d7f4c0af",
   "metadata": {},
   "outputs": [],
   "source": [
    "motor = {\"Honda\", \"Suzuki\", \"Yamaha\"}\n",
    "print(motor[0])\n",
    "print(motor[1])\n",
    "print(motor[2])"
   ]
  }
 ],
 "metadata": {
  "kernelspec": {
   "display_name": "Python 3",
   "language": "python",
   "name": "python3"
  },
  "language_info": {
   "name": "python",
   "version": "3.12.3"
  }
 },
 "nbformat": 4,
 "nbformat_minor": 5
}
